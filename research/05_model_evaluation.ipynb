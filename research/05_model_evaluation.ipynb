{
 "cells": [
  {
   "cell_type": "code",
   "execution_count": 1,
   "metadata": {},
   "outputs": [
    {
     "name": "stdout",
     "output_type": "stream",
     "text": [
      "/home/lok/Documents/ML_Projects/rice_leaf_disease\n"
     ]
    }
   ],
   "source": [
    "import os\n",
    "os.chdir('../')\n",
    "!pwd"
   ]
  },
  {
   "cell_type": "code",
   "execution_count": 4,
   "metadata": {},
   "outputs": [],
   "source": [
    "from dataclasses import dataclass\n",
    "from pathlib import Path\n",
    "from rice_leaf_disease.constants import CONFIG_FILE_PATH, PARAMS_FILE_PATH\n",
    "from rice_leaf_disease.utils.common import create_directories, read_yaml\n"
   ]
  },
  {
   "cell_type": "code",
   "execution_count": 5,
   "metadata": {},
   "outputs": [],
   "source": [
    "@dataclass(frozen=True)\n",
    "class EvaluationConfig:\n",
    "    model_path: Path\n",
    "    training_data: Path\n",
    "    all_params: dict\n",
    "    params_image_size: list\n",
    "    "
   ]
  },
  {
   "cell_type": "code",
   "execution_count": 6,
   "metadata": {},
   "outputs": [],
   "source": [
    "class ConfigurationManager:\n",
    "    def __init__(\n",
    "        self, \n",
    "        config_filepath = CONFIG_FILE_PATH,\n",
    "        params_filepath = PARAMS_FILE_PATH):\n",
    "        self.config = read_yaml(config_filepath)\n",
    "        self.params = read_yaml(params_filepath)\n",
    "        create_directories([self.config.artifacts_root])\n",
    "    \n",
    "    def get_evaluation_config(self) -> EvaluationConfig:\n",
    "        eval_config = EvaluationConfig(\n",
    "            model_path=Path('artifacts/training/model.keras'),\n",
    "            training_data=Path('artifacts/data_ingestion/rice_leaf_diseases'),\n",
    "            all_params=self.params,\n",
    "            params_image_size=self.params.model_params.input_shape\n",
    "        )\n",
    "        \n",
    "        return eval_config\n"
   ]
  },
  {
   "cell_type": "code",
   "execution_count": null,
   "metadata": {},
   "outputs": [
    {
     "name": "stderr",
     "output_type": "stream",
     "text": [
      "2024-12-29 17:35:22.568171: I tensorflow/core/platform/cpu_feature_guard.cc:210] This TensorFlow binary is optimized to use available CPU instructions in performance-critical operations.\n",
      "To enable the following instructions: AVX2 FMA, in other operations, rebuild TensorFlow with the appropriate compiler flags.\n",
      "2024-12-29 17:35:25.780972: W tensorflow/compiler/tf2tensorrt/utils/py_utils.cc:38] TF-TRT Warning: Could not find TensorRT\n"
     ]
    },
    {
     "name": "stdout",
     "output_type": "stream",
     "text": [
      "[2024-12-29 17:35:27,929: INFO : utils : NumExpr defaulting to 8 threads.]\n"
     ]
    }
   ],
   "source": [
    "import tensorflow as tf"
   ]
  },
  {
   "cell_type": "code",
   "execution_count": 9,
   "metadata": {},
   "outputs": [],
   "source": [
    "import numpy as np\n",
    "import cv2\n",
    "from PIL import Image"
   ]
  },
  {
   "cell_type": "code",
   "execution_count": 10,
   "metadata": {},
   "outputs": [],
   "source": [
    "import json\n",
    "\n",
    "\n",
    "class Evaluation:\n",
    "    def __init__(self, config: EvaluationConfig):\n",
    "        self.config = config\n",
    "    \n",
    "    @staticmethod\n",
    "    def load_model(path: Path) -> tf.keras.Model:\n",
    "        if not path.exists():\n",
    "            raise FileNotFoundError(f\"Model file not found at {path}\")\n",
    "        return tf.keras.models.load_model(path)\n",
    "    \n",
    "    @staticmethod\n",
    "    def preprocess_data(data_path: Path, image_size: tuple) -> tuple:\n",
    "        \"\"\"\n",
    "        Load and preprocess the dataset for evaluation.\n",
    "        \"\"\"\n",
    "        bacteria = list(data_path.glob(\"Bacterial leaf blight/*\"))\n",
    "        brown = list(data_path.glob(\"Brown spot/*\"))\n",
    "        smut = list(data_path.glob(\"Leaf smut/*\"))\n",
    "        data = {\"bacteria\": bacteria, \"brown\": brown, \"smut\": smut}\n",
    "        \n",
    "        labels_dict = {\n",
    "            'bacteria': 0,\n",
    "            'brown': 1,\n",
    "            'smut': 2\n",
    "        }\n",
    "        X, y = [], []\n",
    "\n",
    "        for class_name, images in data.items():\n",
    "            for image in images:\n",
    "                img = cv2.imread(str(image))\n",
    "                if img is None:\n",
    "                    print(f\"Failed to load image: {image}\")\n",
    "                    continue\n",
    "                resized_img = cv2.resize(img, image_size[:2])\n",
    "                X.append(resized_img)\n",
    "                y.append(labels_dict[class_name])\n",
    "        \n",
    "        X = np.array(X) / 255.0  # Normalize images\n",
    "        y = np.array(y)  # Labels\n",
    "        return X, y\n",
    "    \n",
    "    def evaluation(self) -> dict:\n",
    "        \"\"\"\n",
    "        Evaluate the model's performance on the dataset.\n",
    "        \"\"\"\n",
    "        model = self.load_model(self.config.model_path)\n",
    "        \n",
    "        image_size = tuple(self.config.params_image_size)\n",
    "        X, y = self.preprocess_data(self.config.training_data, image_size)\n",
    "\n",
    "        print(\"Evaluating the model...\")\n",
    "        scores = model.evaluate(X, y, verbose=1)\n",
    "        \n",
    "        # Create a dictionary with metric names and values\n",
    "        metrics = dict(zip(model.metrics_names, scores))\n",
    "        print(f\"Evaluation Metrics: {metrics}\")\n",
    "        return metrics\n",
    "    \n",
    "    def save_score(self, scores: dict, output_path: Path = Path('artifacts/evaluation/score.json')):\n",
    "        \"\"\"\n",
    "        Save the evaluation metrics to a JSON file.\n",
    "        \"\"\"\n",
    "        output_path.parent.mkdir(parents=True, exist_ok=True)\n",
    "        with open(output_path, 'w') as f:\n",
    "            json.dump(scores, f, indent=4)\n",
    "        print(f\"Scores saved to {output_path}\")"
   ]
  },
  {
   "cell_type": "code",
   "execution_count": null,
   "metadata": {},
   "outputs": [
    {
     "name": "stdout",
     "output_type": "stream",
     "text": [
      "[2024-12-29 18:06:12,091: INFO : common : YAML file: config/config.yaml loaded successfully!]\n",
      "[2024-12-29 18:06:12,106: INFO : common : YAML file: params.yaml loaded successfully!]\n",
      "[2024-12-29 18:06:12,109: INFO : common : created directory at: artifacts]\n",
      "Evaluating the model...\n",
      "\u001b[1m4/4\u001b[0m \u001b[32m━━━━━━━━━━━━━━━━━━━━\u001b[0m\u001b[37m\u001b[0m \u001b[1m2s\u001b[0m 352ms/step - accuracy: 0.7925 - loss: 0.5781\n",
      "Evaluation Metrics: {'loss': 0.563230037689209, 'compile_metrics': 0.7833333611488342}\n",
      "Scores saved to artifacts/evaluation/score.json\n"
     ]
    }
   ],
   "source": [
    "try:\n",
    "    config_manager = ConfigurationManager()\n",
    "    eval_config = config_manager.get_evaluation_config()\n",
    "    evaluation = Evaluation(config=eval_config)\n",
    "    \n",
    "    scores = evaluation.evaluation()\n",
    "    \n",
    "    evaluation.save_score(scores)\n",
    "\n",
    "except Exception as e:\n",
    "    print(f\"Error during evaluation: {e}\")\n",
    "    raise e\n"
   ]
  },
  {
   "cell_type": "code",
   "execution_count": null,
   "metadata": {},
   "outputs": [],
   "source": []
  }
 ],
 "metadata": {
  "kernelspec": {
   "display_name": "ML_ENV",
   "language": "python",
   "name": "python3"
  },
  "language_info": {
   "codemirror_mode": {
    "name": "ipython",
    "version": 3
   },
   "file_extension": ".py",
   "mimetype": "text/x-python",
   "name": "python",
   "nbconvert_exporter": "python",
   "pygments_lexer": "ipython3",
   "version": "3.11.5"
  }
 },
 "nbformat": 4,
 "nbformat_minor": 2
}
